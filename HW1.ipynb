{
  "nbformat": 4,
  "nbformat_minor": 0,
  "metadata": {
    "colab": {
      "provenance": [],
      "authorship_tag": "ABX9TyPS55Mtc0fiqcPzO+vcvhwW",
      "include_colab_link": true
    },
    "kernelspec": {
      "name": "python3",
      "display_name": "Python 3"
    },
    "language_info": {
      "name": "python"
    }
  },
  "cells": [
    {
      "cell_type": "markdown",
      "metadata": {
        "id": "view-in-github",
        "colab_type": "text"
      },
      "source": [
        "<a href=\"https://colab.research.google.com/github/Gerenzeo/data_science_module_1/blob/main/HW1.ipynb\" target=\"_parent\"><img src=\"https://colab.research.google.com/assets/colab-badge.svg\" alt=\"Open In Colab\"/></a>"
      ]
    },
    {
      "cell_type": "code",
      "source": [
        "import numpy as np"
      ],
      "metadata": {
        "id": "6nO5bY-p6_-N"
      },
      "execution_count": null,
      "outputs": []
    },
    {
      "cell_type": "markdown",
      "source": [
        "1. Створіть одновимірний масив (вектор) з першими 10-ма натуральними числами та виведіть його значення."
      ],
      "metadata": {
        "id": "gwkNErxB65fE"
      }
    },
    {
      "cell_type": "code",
      "source": [
        "vector_1 = np.array([1, 2, 3, 4, 5], dtype=int)\n",
        "print(vector_1)"
      ],
      "metadata": {
        "colab": {
          "base_uri": "https://localhost:8080/"
        },
        "id": "9hA2IIpS7QfJ",
        "outputId": "c6b05adc-7c51-4e2f-ebaf-8128fee6eecc"
      },
      "execution_count": null,
      "outputs": [
        {
          "output_type": "stream",
          "name": "stdout",
          "text": [
            "[1 2 3 4 5]\n"
          ]
        }
      ]
    },
    {
      "cell_type": "markdown",
      "source": [
        "2. Створіть двовимірний масив (матрицю) розміром 3x3, заповніть його нулями та виведіть його значення."
      ],
      "metadata": {
        "id": "4A4-NK6-7gbt"
      }
    },
    {
      "cell_type": "code",
      "source": [
        "matrix_3x3 = np.array([[0, 0, 0],\n",
        "                       [0, 0, 0],\n",
        "                       [0, 0, 0]])\n",
        "print(matrix_3x3)"
      ],
      "metadata": {
        "colab": {
          "base_uri": "https://localhost:8080/"
        },
        "id": "LIudzQi57mM2",
        "outputId": "9c2b6cb2-4b08-4d98-b10b-6c10d05279e7"
      },
      "execution_count": null,
      "outputs": [
        {
          "output_type": "stream",
          "name": "stdout",
          "text": [
            "[[0 0 0]\n",
            " [0 0 0]\n",
            " [0 0 0]]\n"
          ]
        }
      ]
    },
    {
      "cell_type": "markdown",
      "source": [
        "3. Створіть масив розміром 5x5, заповніть його випадковими цілими числами в діапазоні від 1 до 10 та виведіть його значення."
      ],
      "metadata": {
        "id": "LrO74hsN8ERZ"
      }
    },
    {
      "cell_type": "code",
      "source": [
        "matrix_5x5 = np.random.uniform(1, 11, (5, 5)).astype(int)\n",
        "print(matrix_5x5)"
      ],
      "metadata": {
        "colab": {
          "base_uri": "https://localhost:8080/"
        },
        "id": "-IURwrOa8Ga7",
        "outputId": "d9510ba3-d56d-4bac-b6d7-895274fe1c5c"
      },
      "execution_count": null,
      "outputs": [
        {
          "output_type": "stream",
          "name": "stdout",
          "text": [
            "[[ 6  3  9 10  7]\n",
            " [ 4  3  5  6  7]\n",
            " [ 5  6  4  9  3]\n",
            " [ 4  9  2 10  3]\n",
            " [ 8  5  2  7  4]]\n"
          ]
        }
      ]
    },
    {
      "cell_type": "markdown",
      "source": [],
      "metadata": {
        "id": "SwICRdQE9BqY"
      }
    },
    {
      "cell_type": "markdown",
      "source": [
        "4. Створіть масив розміром 4x4, заповніть його випадковими дійсними числами в діапазоні від 0 до 1 та виведіть його значення."
      ],
      "metadata": {
        "id": "J-jUdOaGAURD"
      }
    },
    {
      "cell_type": "code",
      "source": [
        "matrix_4x4 = np.random.random((4, 4))\n",
        "print(matrix_4x4)"
      ],
      "metadata": {
        "colab": {
          "base_uri": "https://localhost:8080/"
        },
        "id": "HBJ48N0uAZCO",
        "outputId": "ea910919-5c2a-4263-9e6c-f5cbfbc1d2de"
      },
      "execution_count": null,
      "outputs": [
        {
          "output_type": "stream",
          "name": "stdout",
          "text": [
            "[[0.01035014 0.74949063 0.9394697  0.01186256]\n",
            " [0.56748847 0.94362324 0.89483104 0.82904564]\n",
            " [0.91925909 0.37999223 0.19126381 0.77174199]\n",
            " [0.25157432 0.21056804 0.30961957 0.80014305]]\n"
          ]
        }
      ]
    },
    {
      "cell_type": "markdown",
      "source": [
        "5. Створіть два одновимірних масиви розміром 5, заповніть їх випадковими цілими числами в діапазоні від 1 до 10 та виконайте на них поелементні операції додавання, віднімання та множення."
      ],
      "metadata": {
        "id": "WM0rT8lEAzRo"
      }
    },
    {
      "cell_type": "code",
      "source": [
        "array_1 = np.random.uniform(1, 11, (5)).astype(int)\n",
        "array_2 = np.random.uniform(1, 11, (5)).astype(int)\n",
        "\n",
        "value = 10\n",
        "\n",
        "print(array_1)\n",
        "print(array_1 + value)\n",
        "print(array_1 - value)\n",
        "print(array_1 * value)\n",
        "print(array_1 / value)"
      ],
      "metadata": {
        "colab": {
          "base_uri": "https://localhost:8080/"
        },
        "id": "YQq_cMcrA25h",
        "outputId": "8acf1acb-72b0-42fb-a2bf-4fbd6873ef10"
      },
      "execution_count": null,
      "outputs": [
        {
          "output_type": "stream",
          "name": "stdout",
          "text": [
            "[10  7  8  2  1]\n",
            "[20 17 18 12 11]\n",
            "[ 0 -3 -2 -8 -9]\n",
            "[100  70  80  20  10]\n",
            "[1.  0.7 0.8 0.2 0.1]\n"
          ]
        }
      ]
    },
    {
      "cell_type": "markdown",
      "source": [
        "6. Створіть два вектори розміром 7, заповніть довільними числами та знайдіть їх скалярний добуток."
      ],
      "metadata": {
        "id": "GlaHd5cgEJQR"
      }
    },
    {
      "cell_type": "code",
      "source": [
        "vector_1 = np.array([1, 3, 5, 7, 9, 11, 13])\n",
        "vector_2 = np.array([2, 4, 6, 8, 10, 12, 14])\n",
        "\n",
        "print(np.dot(vector_1, vector_2))"
      ],
      "metadata": {
        "colab": {
          "base_uri": "https://localhost:8080/"
        },
        "id": "0LUyIPO_EPQo",
        "outputId": "1c4c4325-1134-4d27-d5ca-3118b617da97"
      },
      "execution_count": null,
      "outputs": [
        {
          "output_type": "stream",
          "name": "stdout",
          "text": [
            "504\n"
          ]
        }
      ]
    },
    {
      "cell_type": "markdown",
      "source": [
        "7. Створіть дві матриці розміром 2x2 та 2x3, заповніть їх випадковими цілими числами в діапазоні від 1 до 10 та перемножте їх між собою."
      ],
      "metadata": {
        "id": "wiVnbj2QENT_"
      }
    },
    {
      "cell_type": "code",
      "source": [
        "matrix_2x2 = np.random.uniform(1, 11, (2, 2)).astype(int)\n",
        "matrix_2x3 = np.random.uniform(1, 11, (2, 3)).astype(int)\n",
        "\n",
        "\n",
        "print(np.dot(matrix_2x2, matrix_2x3))"
      ],
      "metadata": {
        "colab": {
          "base_uri": "https://localhost:8080/"
        },
        "id": "9xqtX2uVFi3b",
        "outputId": "f5380b49-7ae1-42de-94e8-75b10ae5a406"
      },
      "execution_count": null,
      "outputs": [
        {
          "output_type": "stream",
          "name": "stdout",
          "text": [
            "[[1 6]\n",
            " [2 7]]\n",
            "[[ 4 10  4]\n",
            " [ 9  3  8]]\n",
            "[[58 28 52]\n",
            " [71 41 64]]\n"
          ]
        }
      ]
    },
    {
      "cell_type": "markdown",
      "source": [
        "8. Створіть матрицю розміром 3x3, заповніть її випадковими цілими числами в діапазоні від 1 до 10 та знайдіть її обернену матрицю."
      ],
      "metadata": {
        "id": "C2DsBfzTH9S6"
      }
    },
    {
      "cell_type": "code",
      "source": [
        "matrix_3x3 = np.random.uniform(1, 11, (3, 3)).astype(int)\n",
        "\n",
        "print(\"Current matrix\")\n",
        "print(matrix_3x3, \"\\n\")\n",
        "print(\"Invert matrix\")\n",
        "print(np.linalg.inv(matrix_3x3))\n",
        "\n"
      ],
      "metadata": {
        "colab": {
          "base_uri": "https://localhost:8080/"
        },
        "id": "mRX0h-y9H_EO",
        "outputId": "f571023a-5b61-4bf4-bc4d-ef1056325c64"
      },
      "execution_count": null,
      "outputs": [
        {
          "output_type": "stream",
          "name": "stdout",
          "text": [
            "Current matrix\n",
            "[[ 4  3 10]\n",
            " [ 6  7  7]\n",
            " [ 1  8  8]] \n",
            "\n",
            "Invert matrix\n",
            "[[ 0.          0.19512195 -0.17073171]\n",
            " [-0.14285714  0.07665505  0.11149826]\n",
            " [ 0.14285714 -0.1010453   0.03484321]]\n"
          ]
        }
      ]
    },
    {
      "cell_type": "markdown",
      "source": [
        "9. Створіть матрицю розміром 4x4, заповніть її випадковими дійсними числами в діапазоні від 0 до 1 та транспонуйте її."
      ],
      "metadata": {
        "id": "ar_3r5B-iDZ9"
      }
    },
    {
      "cell_type": "code",
      "source": [
        "matrix_4x4 = np.random.uniform(0, 1, (4, 4))\n",
        "\n",
        "print(matrix_4x4)\n",
        "print(\"\\n\")\n",
        "transported_matrix = np.transpose(matrix_4x4)\n",
        "print(transported_matrix)"
      ],
      "metadata": {
        "colab": {
          "base_uri": "https://localhost:8080/"
        },
        "id": "KNdelQ8YiFjX",
        "outputId": "603d63d6-bbdd-461f-e8ee-fd30c0b85425"
      },
      "execution_count": null,
      "outputs": [
        {
          "output_type": "stream",
          "name": "stdout",
          "text": [
            "[[0.49500422 0.63173309 0.44953616 0.55674991]\n",
            " [0.21559315 0.97655532 0.22522833 0.30421327]\n",
            " [0.07601681 0.26194444 0.73899822 0.42650531]\n",
            " [0.01633835 0.90706192 0.71362999 0.35836191]]\n",
            "\n",
            "\n",
            "[[0.49500422 0.21559315 0.07601681 0.01633835]\n",
            " [0.63173309 0.97655532 0.26194444 0.90706192]\n",
            " [0.44953616 0.22522833 0.73899822 0.71362999]\n",
            " [0.55674991 0.30421327 0.42650531 0.35836191]]\n"
          ]
        }
      ]
    },
    {
      "cell_type": "markdown",
      "source": [
        "10. Створіть матрицю розміром 3x4 та вектор розміром 4, заповніть їх випадковими цілими числами в діапазоні від 1 до 10 та перемножте матрицю на вектор."
      ],
      "metadata": {
        "id": "WJKIvJJ8i9aO"
      }
    },
    {
      "cell_type": "code",
      "source": [
        "matrix_3x4 = np.random.uniform(1, 11, (3, 4)).astype(int)\n",
        "vector_1 = np.random.randint(1, 11, size=4).astype(int)\n",
        "print(matrix_3x4 * vector_1)"
      ],
      "metadata": {
        "colab": {
          "base_uri": "https://localhost:8080/"
        },
        "id": "EbXzPEd8jCIX",
        "outputId": "7bc14f5f-78ff-46fe-da78-0b5ac786f412"
      },
      "execution_count": null,
      "outputs": [
        {
          "output_type": "stream",
          "name": "stdout",
          "text": [
            "[[40 24  4 40]\n",
            " [30 24 16 90]\n",
            " [20 48 10 20]]\n"
          ]
        }
      ]
    },
    {
      "cell_type": "markdown",
      "source": [
        "11. Створіть матрицю розміром 2x3 та вектор розміром 3, заповніть їх випадковими дійсними числами в діапазоні від 0 до 1 та перемножте матрицю на вектор."
      ],
      "metadata": {
        "id": "zc18Ezrtj8yg"
      }
    },
    {
      "cell_type": "code",
      "source": [
        "matrix_2x3 = np.random.rand(2, 3)\n",
        "vector_1 = np.random.rand(3)\n",
        "print(matrix_2x3 * vector_1)"
      ],
      "metadata": {
        "colab": {
          "base_uri": "https://localhost:8080/"
        },
        "id": "1z_jW3iUj_5l",
        "outputId": "61c16611-3483-456c-f688-b283477dd8f6"
      },
      "execution_count": null,
      "outputs": [
        {
          "output_type": "stream",
          "name": "stdout",
          "text": [
            "[[0.60630659 0.10859619 0.62750096]\n",
            " [0.6951436  0.15998075 0.5043108 ]]\n"
          ]
        }
      ]
    },
    {
      "cell_type": "markdown",
      "source": [
        "12. Створіть дві матриці розміром 2x2, заповніть їх випадковими цілими числами в діапазоні від 1 до 10 та виконайте їхнє поелементне множення."
      ],
      "metadata": {
        "id": "LIIBV6MIlDFE"
      }
    },
    {
      "cell_type": "code",
      "source": [
        "matrix_1_2x2 = np.random.uniform(1, 11, (2, 2)).astype(int)\n",
        "matrix_2_2x2 = np.random.uniform(1, 11, (2, 2)).astype(int)\n",
        "\n",
        "print(matrix_1_2x2 * matrix_2_2x2)\n"
      ],
      "metadata": {
        "colab": {
          "base_uri": "https://localhost:8080/"
        },
        "id": "E5Kemu1Aj_mL",
        "outputId": "91ba4f00-5f45-419e-9eba-4c979af1e000"
      },
      "execution_count": null,
      "outputs": [
        {
          "output_type": "stream",
          "name": "stdout",
          "text": [
            "[[  9  45]\n",
            " [100   4]]\n"
          ]
        }
      ]
    },
    {
      "cell_type": "markdown",
      "source": [
        "13. Створіть дві матриці розміром 2x2, заповніть їх випадковими цілими числами в діапазоні від 1 до 10 та знайдіть їх добуток."
      ],
      "metadata": {
        "id": "T4w9hW-rlkkW"
      }
    },
    {
      "cell_type": "code",
      "source": [
        "matrix_1_2x2 = np.random.uniform(1, 11, (2, 2)).astype(int)\n",
        "matrix_2_2x2 = np.random.uniform(1, 11, (2, 2)).astype(int)\n",
        "\n",
        "print(np.dot(matrix_1_2x2, matrix_2_2x2))"
      ],
      "metadata": {
        "id": "574uwDu-lowo"
      },
      "execution_count": null,
      "outputs": []
    },
    {
      "cell_type": "markdown",
      "source": [
        "14. Створіть матрицю розміром 5x5, заповніть її випадковими цілими числами в діапазоні від 1 до 100 та знайдіть суму елементів матриці.\n"
      ],
      "metadata": {
        "id": "np8VtpLelzmV"
      }
    },
    {
      "cell_type": "code",
      "source": [
        "matrix_5x5 = np.random.uniform(1, 101, (5, 5)).astype(int)\n",
        "print(matrix_5x5.sum())"
      ],
      "metadata": {
        "colab": {
          "base_uri": "https://localhost:8080/"
        },
        "id": "M9csBJrHmBsM",
        "outputId": "6d87ed9a-719c-417f-a15a-2fb22f16ae00"
      },
      "execution_count": null,
      "outputs": [
        {
          "output_type": "stream",
          "name": "stdout",
          "text": [
            "1228\n"
          ]
        }
      ]
    },
    {
      "cell_type": "markdown",
      "source": [
        "15. Створіть дві матриці розміром 4x4, заповніть їх випадковими цілими числами в діапазоні від 1 до 10 та знайдіть їхню різницю.\n",
        "\n"
      ],
      "metadata": {
        "id": "i5C2rnC5l2-h"
      }
    },
    {
      "cell_type": "code",
      "source": [
        "matrix_1_4x4 = np.random.randint(1, 11, (4, 4))\n",
        "matrix_2_4x4 = np.random.randint(1, 11, (4, 4))\n",
        "\n",
        "print(matrix_1_4x4 - matrix_2_4x4)\n"
      ],
      "metadata": {
        "colab": {
          "base_uri": "https://localhost:8080/"
        },
        "id": "6akGITFVmZtf",
        "outputId": "87746811-b046-4dd0-cea6-eecf38bf4d5f"
      },
      "execution_count": null,
      "outputs": [
        {
          "output_type": "stream",
          "name": "stdout",
          "text": [
            "[[ 0 -3  8  4]\n",
            " [ 4 -4 -2  1]\n",
            " [-7  3 -5  6]\n",
            " [-2 -2  1  1]]\n"
          ]
        }
      ]
    },
    {
      "cell_type": "markdown",
      "source": [
        "16. Створіть матрицю розміром 3x3, заповніть її випадковими дійсними числами в діапазоні від 0 до 1 та знайдіть вектор-стовпчик, що містить суму елементів кожного рядка матриці."
      ],
      "metadata": {
        "id": "YhdGDjajl5Hp"
      }
    },
    {
      "cell_type": "code",
      "source": [
        "matrix_3x3 = np.random.rand(3, 3)\n",
        "print(matrix_3x3)\n",
        "\n",
        "print(\"\\n\")\n",
        "row_sums = np.sum(matrix_3x3, axis=1)\n",
        "print(row_sums.reshape(3, 1))"
      ],
      "metadata": {
        "colab": {
          "base_uri": "https://localhost:8080/"
        },
        "id": "CKJsyvLKmabN",
        "outputId": "f5e776d2-a64a-4545-a731-b307ddb4c98b"
      },
      "execution_count": null,
      "outputs": [
        {
          "output_type": "stream",
          "name": "stdout",
          "text": [
            "[[0.68390387 0.20336159 0.18227348]\n",
            " [0.80017571 0.60981974 0.43033103]\n",
            " [0.84604691 0.82863245 0.99569808]]\n",
            "\n",
            "\n",
            "[[1.06953894]\n",
            " [1.84032647]\n",
            " [2.67037744]]\n"
          ]
        }
      ]
    },
    {
      "cell_type": "markdown",
      "source": [
        "17. Створіть матрицю розміром 3x4 з довільними цілими числами і створінь матрицю з квадратами цих чисел"
      ],
      "metadata": {
        "id": "Kpd8-y7il7BW"
      }
    },
    {
      "cell_type": "code",
      "source": [
        "matrix_1_3x4 = np.random.randint(1, 11, (3, 4))\n",
        "matrix_pow_3x4 = np.square(matrix_1_3x4)\n",
        "\n",
        "\n",
        "# print(matrix_1_3x4 ** 2)\n",
        "print(matrix_1_3x4)\n",
        "print('\\n')\n",
        "print(matrix_pow_3x4)"
      ],
      "metadata": {
        "colab": {
          "base_uri": "https://localhost:8080/"
        },
        "id": "2ZzrzNxOma3w",
        "outputId": "a59fe2bf-29e9-4f5d-c19a-08cf37b3e16c"
      },
      "execution_count": null,
      "outputs": [
        {
          "output_type": "stream",
          "name": "stdout",
          "text": [
            "[[ 5 10  3  2]\n",
            " [ 1  3  1  2]\n",
            " [10  9  3  7]]\n",
            "\n",
            "\n",
            "[[ 25 100   9   4]\n",
            " [  1   9   1   4]\n",
            " [100  81   9  49]]\n"
          ]
        }
      ]
    },
    {
      "cell_type": "markdown",
      "source": [
        "18. Створіть вектор розміром 4, заповніть його випадковими цілими числами в діапазоні від 1 до 50 та знайдіть вектор з квадратними коренями цих чисел."
      ],
      "metadata": {
        "id": "_WiXJNlHl9IV"
      }
    },
    {
      "cell_type": "code",
      "source": [
        "vector_1 = np.random.randint(1, 51, size=4)\n",
        "\n",
        "print(f\"Current: {vector_1}\")\n",
        "print(f\"Sqrt: {np.sqrt(vector_1)}\")"
      ],
      "metadata": {
        "colab": {
          "base_uri": "https://localhost:8080/"
        },
        "id": "6EAPEeyCmbNY",
        "outputId": "6dc91ae6-40da-4822-bb54-82a99aa1c503"
      },
      "execution_count": null,
      "outputs": [
        {
          "output_type": "stream",
          "name": "stdout",
          "text": [
            "Current: [39 46 34 42]\n",
            "Sqrt: [6.244998   6.78232998 5.83095189 6.4807407 ]\n"
          ]
        }
      ]
    }
  ]
}