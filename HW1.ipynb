{
  "nbformat": 4,
  "nbformat_minor": 0,
  "metadata": {
    "colab": {
      "provenance": [],
      "authorship_tag": "ABX9TyPC/4iWajaVzy91ggmM0aCS",
      "include_colab_link": true
    },
    "kernelspec": {
      "name": "python3",
      "display_name": "Python 3"
    },
    "language_info": {
      "name": "python"
    }
  },
  "cells": [
    {
      "cell_type": "markdown",
      "metadata": {
        "id": "view-in-github",
        "colab_type": "text"
      },
      "source": [
        "<a href=\"https://colab.research.google.com/github/Gerenzeo/data_science_module_1/blob/main/HW1.ipynb\" target=\"_parent\"><img src=\"https://colab.research.google.com/assets/colab-badge.svg\" alt=\"Open In Colab\"/></a>"
      ]
    },
    {
      "cell_type": "code",
      "execution_count": null,
      "metadata": {
        "id": "UWeBrTEIlkuv"
      },
      "outputs": [],
      "source": [
        "import pandas as pd"
      ]
    },
    {
      "cell_type": "code",
      "source": [
        "mountain_height = pd.Series([2061, 2035.8, 2028.5, 2022.5, 2016.4])\n",
        "\n",
        "print(mountain_height)"
      ],
      "metadata": {
        "colab": {
          "base_uri": "https://localhost:8080/"
        },
        "id": "FnybrudolpT7",
        "outputId": "194eeb8a-2eab-41cc-f00b-64c9595456b5"
      },
      "execution_count": null,
      "outputs": [
        {
          "output_type": "stream",
          "name": "stdout",
          "text": [
            "0    2061.0\n",
            "1    2035.8\n",
            "2    2028.5\n",
            "3    2022.5\n",
            "4    2016.4\n",
            "dtype: float64\n"
          ]
        }
      ]
    },
    {
      "cell_type": "code",
      "source": [
        "mountain_height = pd.Series(\n",
        "    data=[2061, 2035.8, 2028.5, 2022.5, 2016.4],\n",
        "    index=[\"Goverla\", \"Brebenskyl\", \"Pip_Ivan\", \"Petros\", \"Gutin_Tomnatik\"],\n",
        "    name=\"Height, m\",\n",
        "    dtype=float,\n",
        ")\n",
        "print(mountain_height)"
      ],
      "metadata": {
        "colab": {
          "base_uri": "https://localhost:8080/"
        },
        "id": "pwOpwAaZnWku",
        "outputId": "498f5f13-8960-45e0-9e46-d3fae221e6e8"
      },
      "execution_count": null,
      "outputs": [
        {
          "output_type": "stream",
          "name": "stdout",
          "text": [
            "Goverla           2061.0\n",
            "Brebenskyl        2035.8\n",
            "Pip_Ivan          2028.5\n",
            "Petros            2022.5\n",
            "Gutin_Tomnatik    2016.4\n",
            "Name: Height, m, dtype: float64\n"
          ]
        }
      ]
    },
    {
      "cell_type": "code",
      "source": [
        "print(mountain_height[0])\n",
        "print(mountain_height[\"Goverla\"])"
      ],
      "metadata": {
        "colab": {
          "base_uri": "https://localhost:8080/"
        },
        "id": "_yiYch6Dn3Ld",
        "outputId": "ba2cf01a-c789-40bd-fec8-86dab67edc05"
      },
      "execution_count": null,
      "outputs": [
        {
          "output_type": "stream",
          "name": "stdout",
          "text": [
            "2061.0\n",
            "2061.0\n"
          ]
        }
      ]
    },
    {
      "cell_type": "code",
      "source": [
        "print(mountain_height[[\"Pip_Ivan\", \"Goverla\", \"Gutin_Tomnatik\"]])"
      ],
      "metadata": {
        "colab": {
          "base_uri": "https://localhost:8080/"
        },
        "id": "saSNaMP0n_ez",
        "outputId": "6feeb371-ff7d-4ba5-8972-a35ab2dd35b7"
      },
      "execution_count": null,
      "outputs": [
        {
          "output_type": "stream",
          "name": "stdout",
          "text": [
            "Pip_Ivan          2028.5\n",
            "Goverla           2061.0\n",
            "Gutin_Tomnatik    2016.4\n",
            "Name: Height, m, dtype: float64\n"
          ]
        }
      ]
    },
    {
      "cell_type": "code",
      "source": [
        "print(mountain_height[1:3])\n",
        "print(\"------------\")\n",
        "print(mountain_height[\"Brebenskyl\":\"Petros\"])"
      ],
      "metadata": {
        "colab": {
          "base_uri": "https://localhost:8080/"
        },
        "id": "C9lswv10n_vJ",
        "outputId": "8840072f-f784-4cb6-b02d-456818e37e36"
      },
      "execution_count": null,
      "outputs": [
        {
          "output_type": "stream",
          "name": "stdout",
          "text": [
            "Brebenskyl    2035.8\n",
            "Pip_Ivan      2028.5\n",
            "Name: Height, m, dtype: float64\n",
            "------------\n",
            "Brebenskyl    2035.8\n",
            "Pip_Ivan      2028.5\n",
            "Petros        2022.5\n",
            "Name: Height, m, dtype: float64\n"
          ]
        }
      ]
    },
    {
      "cell_type": "code",
      "source": [
        "print(mountain_height.Petros)\n",
        "print(mountain_height.Brebenskyl)"
      ],
      "metadata": {
        "colab": {
          "base_uri": "https://localhost:8080/"
        },
        "id": "lvc5bHevohFK",
        "outputId": "ff88e0d3-337e-41cb-d573-c0a9356ebda5"
      },
      "execution_count": null,
      "outputs": [
        {
          "output_type": "stream",
          "name": "stdout",
          "text": [
            "2022.5\n",
            "2035.8\n"
          ]
        }
      ]
    },
    {
      "cell_type": "code",
      "source": [
        "print(mountain_height > 2030)\n",
        "print(mountain_height[mountain_height > 2030])"
      ],
      "metadata": {
        "colab": {
          "base_uri": "https://localhost:8080/"
        },
        "id": "jkBzdaA6olIH",
        "outputId": "2f7c2267-9c50-4b37-8338-0541f174cbc8"
      },
      "execution_count": null,
      "outputs": [
        {
          "output_type": "stream",
          "name": "stdout",
          "text": [
            "Goverla            True\n",
            "Brebenskyl         True\n",
            "Pip_Ivan          False\n",
            "Petros            False\n",
            "Gutin_Tomnatik    False\n",
            "Name: Height, m, dtype: bool\n",
            "Goverla       2061.0\n",
            "Brebenskyl    2035.8\n",
            "Name: Height, m, dtype: float64\n"
          ]
        }
      ]
    },
    {
      "cell_type": "code",
      "source": [
        "print(\"Goverla\" in mountain_height)"
      ],
      "metadata": {
        "colab": {
          "base_uri": "https://localhost:8080/"
        },
        "id": "GHBPGA7nrwxj",
        "outputId": "0a7b2dc8-da88-413e-ff9d-d94f0e4e08bb"
      },
      "execution_count": null,
      "outputs": [
        {
          "output_type": "stream",
          "name": "stdout",
          "text": [
            "True\n"
          ]
        }
      ]
    },
    {
      "cell_type": "code",
      "source": [
        "sort_index = mountain_height.sort_index()\n",
        "print(sort_index)"
      ],
      "metadata": {
        "colab": {
          "base_uri": "https://localhost:8080/"
        },
        "id": "aKucexgpr-kS",
        "outputId": "7b031b69-e40b-4727-bb87-7b5fd6673f82"
      },
      "execution_count": null,
      "outputs": [
        {
          "output_type": "stream",
          "name": "stdout",
          "text": [
            "Brebenskyl        2035.8\n",
            "Goverla           2061.0\n",
            "Gutin_Tomnatik    2016.4\n",
            "Petros            2022.5\n",
            "Pip_Ivan          2028.5\n",
            "Name: Height, m, dtype: float64\n"
          ]
        }
      ]
    },
    {
      "cell_type": "code",
      "source": [
        "mountain_height.sort_values(inplace=True, ascending=False)\n",
        "print(mountain_height)"
      ],
      "metadata": {
        "colab": {
          "base_uri": "https://localhost:8080/"
        },
        "id": "O-g2P9oesx9g",
        "outputId": "41555867-dbba-45f2-e137-c5482bdd7108"
      },
      "execution_count": null,
      "outputs": [
        {
          "output_type": "stream",
          "name": "stdout",
          "text": [
            "Gutin_Tomnatik    2016.4\n",
            "Petros            2022.5\n",
            "Pip_Ivan          2028.5\n",
            "Brebenskyl        2035.8\n",
            "Goverla           2061.0\n",
            "Name: Height, m, dtype: float64\n"
          ]
        }
      ]
    },
    {
      "cell_type": "code",
      "source": [
        "mountains_height = pd.Series(\n",
        "    {\"Goverla\": 2061, \"Brebenskyl\": 2035.8, \"Pip_Ivan\": 2028.5},\n",
        "    index=[\"Goverla\", \"Brebenskyl\", \"Pip_Ivan\", \"Petros\", \"Gutin_Tomnatik\"],\n",
        "    name=\"Height, m\",\n",
        "    dtype=float,\n",
        ")"
      ],
      "metadata": {
        "id": "jPfStqh4tIoU"
      },
      "execution_count": null,
      "outputs": []
    },
    {
      "cell_type": "code",
      "source": [
        "# ------- DATA FRAME"
      ],
      "metadata": {
        "id": "m7RPDWwstVgY"
      },
      "execution_count": null,
      "outputs": []
    },
    {
      "cell_type": "code",
      "source": [
        "contacts = pd.DataFrame(\n",
        "    {\n",
        "        \"name\": [\n",
        "            \"Allen Raymond\",\n",
        "            \"Chaim Lewis\",\n",
        "            \"Kennedy Lane\",\n",
        "            \"Wylie Pope\",\n",
        "            \"Cyrus Jackson\",\n",
        "        ],\n",
        "        \"email\": [\n",
        "            \"nulla.ante@vestibul.co.uk\",\n",
        "            \"dui.in@egetlacus.ca\",\n",
        "            \"mattis.Cras@nonenimMauris.net\",\n",
        "            \"est@utquamvel.net\",\n",
        "            \"nibh@semsempererat.com\",\n",
        "        ],\n",
        "        \"phone\": [\n",
        "            \"(992) 914-3792\",\n",
        "            \"(294) 840-6685\",\n",
        "            \"(542) 451-7038\",\n",
        "            \"(692) 802-2949\",\n",
        "            \"(501) 472-5218\",\n",
        "        ],\n",
        "        \"favorite\": [False, False, True, False, True],\n",
        "    },\n",
        "    index=[1, 2, 3, 4, 5],\n",
        ")"
      ],
      "metadata": {
        "id": "oyQkyleVtXju"
      },
      "execution_count": null,
      "outputs": []
    },
    {
      "cell_type": "code",
      "source": [
        "print(contacts)"
      ],
      "metadata": {
        "colab": {
          "base_uri": "https://localhost:8080/"
        },
        "id": "CQJouF95tc9J",
        "outputId": "fa0fcfc8-05ce-4c8b-fd1f-ede10e035b1f"
      },
      "execution_count": null,
      "outputs": [
        {
          "output_type": "stream",
          "name": "stdout",
          "text": [
            "            name                          email           phone  favorite\n",
            "1  Allen Raymond      nulla.ante@vestibul.co.uk  (992) 914-3792     False\n",
            "2    Chaim Lewis            dui.in@egetlacus.ca  (294) 840-6685     False\n",
            "3   Kennedy Lane  mattis.Cras@nonenimMauris.net  (542) 451-7038      True\n",
            "4     Wylie Pope              est@utquamvel.net  (692) 802-2949     False\n",
            "5  Cyrus Jackson         nibh@semsempererat.com  (501) 472-5218      True\n"
          ]
        }
      ]
    },
    {
      "cell_type": "code",
      "source": [
        "print(contacts[\"name\"])"
      ],
      "metadata": {
        "colab": {
          "base_uri": "https://localhost:8080/"
        },
        "id": "J4DwZEO8uHBb",
        "outputId": "eb5d6fe7-33e1-4fa0-ddf7-c2922b0746f0"
      },
      "execution_count": null,
      "outputs": [
        {
          "output_type": "stream",
          "name": "stdout",
          "text": [
            "1    Allen Raymond\n",
            "2      Chaim Lewis\n",
            "3     Kennedy Lane\n",
            "4       Wylie Pope\n",
            "5    Cyrus Jackson\n",
            "Name: name, dtype: object\n"
          ]
        }
      ]
    },
    {
      "cell_type": "code",
      "source": [
        "print(contacts.loc[1])"
      ],
      "metadata": {
        "colab": {
          "base_uri": "https://localhost:8080/"
        },
        "id": "hmv1mxWnuK7g",
        "outputId": "68cf89b6-aa6f-489d-e016-49a7d52db575"
      },
      "execution_count": null,
      "outputs": [
        {
          "output_type": "stream",
          "name": "stdout",
          "text": [
            "name                    Allen Raymond\n",
            "email       nulla.ante@vestibul.co.uk\n",
            "phone                  (992) 914-3792\n",
            "favorite                        False\n",
            "Name: 1, dtype: object\n"
          ]
        }
      ]
    },
    {
      "cell_type": "code",
      "source": [
        "print(contacts.iloc[1])"
      ],
      "metadata": {
        "colab": {
          "base_uri": "https://localhost:8080/"
        },
        "id": "j9hqpEsEuQao",
        "outputId": "e16ace05-683a-49eb-f6bb-bf0a43a52818"
      },
      "execution_count": null,
      "outputs": [
        {
          "output_type": "stream",
          "name": "stdout",
          "text": [
            "name                Chaim Lewis\n",
            "email       dui.in@egetlacus.ca\n",
            "phone            (294) 840-6685\n",
            "favorite                  False\n",
            "Name: 2, dtype: object\n"
          ]
        }
      ]
    },
    {
      "cell_type": "code",
      "source": [
        "print(contacts[0:2])"
      ],
      "metadata": {
        "colab": {
          "base_uri": "https://localhost:8080/"
        },
        "id": "JT8fAywRuVdB",
        "outputId": "81b931a5-4bbf-42bb-b289-cf9a082fa963"
      },
      "execution_count": null,
      "outputs": [
        {
          "output_type": "stream",
          "name": "stdout",
          "text": [
            "            name                      email           phone  favorite\n",
            "1  Allen Raymond  nulla.ante@vestibul.co.uk  (992) 914-3792     False\n",
            "2    Chaim Lewis        dui.in@egetlacus.ca  (294) 840-6685     False\n"
          ]
        }
      ]
    },
    {
      "cell_type": "code",
      "source": [
        "print(contacts[contacts[\"favorite\"]])"
      ],
      "metadata": {
        "id": "4eEO6-3RuctM",
        "outputId": "6f738095-6438-4cad-e030-5fd976095e1f",
        "colab": {
          "base_uri": "https://localhost:8080/"
        }
      },
      "execution_count": null,
      "outputs": [
        {
          "output_type": "stream",
          "name": "stdout",
          "text": [
            "            name                          email           phone  favorite\n",
            "3   Kennedy Lane  mattis.Cras@nonenimMauris.net  (542) 451-7038      True\n",
            "5  Cyrus Jackson         nibh@semsempererat.com  (501) 472-5218      True\n"
          ]
        }
      ]
    }
  ]
}